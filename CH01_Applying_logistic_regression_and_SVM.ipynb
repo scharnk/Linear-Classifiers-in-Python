{
  "nbformat": 4,
  "nbformat_minor": 0,
  "metadata": {
    "colab": {
      "name": "CH01_Applying-logistic-regression-and-SVM.ipynb",
      "version": "0.3.2",
      "provenance": [],
      "include_colab_link": true
    },
    "kernelspec": {
      "name": "python3",
      "display_name": "Python 3"
    }
  },
  "cells": [
    {
      "cell_type": "markdown",
      "metadata": {
        "id": "view-in-github",
        "colab_type": "text"
      },
      "source": [
        "<a href=\"https://colab.research.google.com/github/scharnk/Linear-Classifiers-in-Python/blob/master/CH01_Applying_logistic_regression_and_SVM.ipynb\" target=\"_parent\"><img src=\"https://colab.research.google.com/assets/colab-badge.svg\" alt=\"Open In Colab\"/></a>"
      ]
    },
    {
      "cell_type": "code",
      "metadata": {
        "id": "YAZClu7sm0S2",
        "colab_type": "code",
        "colab": {}
      },
      "source": [
        "from sklearn.neighbors import KNeighborsClassifier\n",
        "\n",
        "# Create and fit the model\n",
        "knn = KNeighborsClassifier()\n",
        "knn.fit(X_train, y_train)\n",
        "\n",
        "# Predict on the test features, print the results\n",
        "pred = knn.predict(X_test)[0]\n",
        "print(\"Prediction for test example 0:\", pred)"
      ],
      "execution_count": 0,
      "outputs": []
    },
    {
      "cell_type": "code",
      "metadata": {
        "id": "12_4NFJaotzS",
        "colab_type": "code",
        "colab": {}
      },
      "source": [
        "which has a higher accuracy, k=1 or k=5\n",
        "\n",
        "k1= KNeighborsClassifier(n_neighbors=1)\n",
        "k5= KNeighborsClassifier(n_neighbors=5)\n",
        "\n",
        "k1.fit(X_train, y_train)\n",
        "k5.fit(X_train, y_train)\n",
        "\n",
        "print(k1.score(X_test, y_test))\n",
        "print(k5.score(X_test, y_test))"
      ],
      "execution_count": 0,
      "outputs": []
    },
    {
      "cell_type": "markdown",
      "metadata": {
        "id": "iROEYvR4q507",
        "colab_type": "text"
      },
      "source": [
        "# Logistic Regression is a Linear Classifier\n",
        "\n",
        "# A basic SVM classifier is Linear Support Vector Classifier (LinearSVC)\n",
        "\n",
        "* **Underfitting:** model too simple, lower training accuracy\n",
        "* **Overfitting:** model too complex, lower testing accuracy"
      ]
    },
    {
      "cell_type": "code",
      "metadata": {
        "id": "VfbOZr7bqp3h",
        "colab_type": "code",
        "colab": {}
      },
      "source": [
        "from sklearn import datasets\n",
        "digits = datasets.load_digits()\n",
        "X_train, X_test, y_train, y_test = train_test_split(digits.data, digits.target)\n",
        "\n",
        "# Apply logistic regression and print scores\n",
        "lr = LogisticRegression()\n",
        "lr.fit(X_train, y_train)\n",
        "print(lr.score(X_train, y_train))\n",
        "print(lr.score(X_test, y_test))\n",
        "\n",
        "# Apply SVM and print scores\n",
        "svm = SVC()\n",
        "svm.fit(X_train, y_train)\n",
        "print(svm.score(X_train, y_train))\n",
        "print(svm.score(X_test, y_test))"
      ],
      "execution_count": 0,
      "outputs": []
    },
    {
      "cell_type": "code",
      "metadata": {
        "id": "pt1miXCPqptE",
        "colab_type": "code",
        "colab": {}
      },
      "source": [
        "# Instantiate logistic regression and train\n",
        "lr = LogisticRegression()\n",
        "lr.fit(X, y)\n",
        "\n",
        "# Predict sentiment for a glowing review\n",
        "review1 = \"LOVED IT! This movie was amazing. Top 10 this year.\"\n",
        "review1_features = get_features(review1)\n",
        "print(\"Review:\", review1)\n",
        "print(\"Probability of positive review:\", lr.predict_proba(review1_features)[0,1])\n",
        "\n",
        "# Predict sentiment for a poor review\n",
        "review2 = \"Total junk! I'll never watch a film by that director again, no matter how good the reviews.\"\n",
        "review2_features = get_features(review2)\n",
        "print(\"Review:\", review2)\n",
        "print(\"Probability of positive review:\", lr.predict_proba(review2_features)[0,1])"
      ],
      "execution_count": 0,
      "outputs": []
    },
    {
      "cell_type": "markdown",
      "metadata": {
        "id": "j_7QlAs5xBDp",
        "colab_type": "text"
      },
      "source": [
        "# Linear Decision Boundaries\n",
        "\n",
        "* can be in any direction, or have multiple dimensions\n",
        "* only has one boundary that separates data\n",
        "\n",
        "# Non-linear Decision Boundaries\n",
        "\n",
        "* can have discontinuous boundaries (islands)\n",
        "\n",
        "\n",
        "* Logistic regression and SVMs learn linear decision boundaries\n",
        "\n",
        "# Definitions\n",
        "\n",
        "* **classification:** learning to predict categories\n",
        "* **decision boundary:** surface separating predicted classes\n",
        "* **linear classifier:** a classifier that learns linear decision boundaries (Logistic Regression, Linear SVC)\n",
        "* **linearly seperable:** a dataset that can be perfectly classified by a linear classifier"
      ]
    },
    {
      "cell_type": "code",
      "metadata": {
        "id": "1h-e9qurqpiM",
        "colab_type": "code",
        "colab": {}
      },
      "source": [
        ""
      ],
      "execution_count": 0,
      "outputs": []
    }
  ]
}